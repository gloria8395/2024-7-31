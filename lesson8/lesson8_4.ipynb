{
 "cells": [
  {
   "cell_type": "code",
   "execution_count": 5,
   "metadata": {},
   "outputs": [
    {
     "data": {
      "text/plain": [
       "__main__.Person"
      ]
     },
     "execution_count": 5,
     "metadata": {},
     "output_type": "execute_result"
    }
   ],
   "source": [
    "class Person():\n",
    "    pass\n",
    "\n",
    "p1=Person()  #Person的實體 #預設的初始化\n",
    "type(p1)\n",
    "p2=Person()\n",
    "type(p2)"
   ]
  },
  {
   "cell_type": "code",
   "execution_count": 3,
   "metadata": {},
   "outputs": [
    {
     "name": "stdout",
     "output_type": "stream",
     "text": [
      "gloria\n",
      "王競儀\n"
     ]
    }
   ],
   "source": [
    "class Person():\n",
    "    def __init__(self,name:str):\n",
    "        self.name=name  #建立一個attribute，賦予其name\n",
    "\n",
    "p1=Person(name='gloria')  #自訂的init\n",
    "print(p1.name)\n",
    "p2=Person('王競儀')\n",
    "print(p2.name)"
   ]
  }
 ],
 "metadata": {
  "kernelspec": {
   "display_name": "Python 3",
   "language": "python",
   "name": "python3"
  },
  "language_info": {
   "codemirror_mode": {
    "name": "ipython",
    "version": 3
   },
   "file_extension": ".py",
   "mimetype": "text/x-python",
   "name": "python",
   "nbconvert_exporter": "python",
   "pygments_lexer": "ipython3",
   "version": "3.11.9"
  }
 },
 "nbformat": 4,
 "nbformat_minor": 2
}

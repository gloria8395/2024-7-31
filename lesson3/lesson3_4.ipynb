{
 "cells": [
  {
   "cell_type": "code",
   "execution_count": 7,
   "metadata": {},
   "outputs": [
    {
     "name": "stdout",
     "output_type": "stream",
     "text": [
      "gloria您好:\n",
      "您的BMI值是:21.64412070759625\n"
     ]
    }
   ],
   "source": [
    "name=input('請輸入姓名:')\n",
    "h=float(input('請輸入身高(cm):'))\n",
    "w=float(input('請輸入體重(kg):'))\n",
    "bmi=w/(h/100)**2\n",
    "print(name+f'您好:\\n您的BMI值是:{bmi}')"
   ]
  }
 ],
 "metadata": {
  "kernelspec": {
   "display_name": "Python 3",
   "language": "python",
   "name": "python3"
  },
  "language_info": {
   "codemirror_mode": {
    "name": "ipython",
    "version": 3
   },
   "file_extension": ".py",
   "mimetype": "text/x-python",
   "name": "python",
   "nbconvert_exporter": "python",
   "pygments_lexer": "ipython3",
   "version": "3.11.9"
  }
 },
 "nbformat": 4,
 "nbformat_minor": 2
}

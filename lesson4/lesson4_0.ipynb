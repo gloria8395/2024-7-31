{
 "cells": [
  {
   "cell_type": "code",
   "execution_count": null,
   "metadata": {},
   "outputs": [],
   "source": [
    "name=input('請輸入姓名:')\n",
    "h=float(input('請輸入身高(cm):'))\n",
    "w=float(input('請輸入體重(kg):'))\n",
    "bmi=w/(h/100)**2\n",
    "print(f'{name}您好:\\n您的BMI值是:{bmi}')"
   ]
  }
 ],
 "metadata": {
  "language_info": {
   "name": "python"
  }
 },
 "nbformat": 4,
 "nbformat_minor": 2
}

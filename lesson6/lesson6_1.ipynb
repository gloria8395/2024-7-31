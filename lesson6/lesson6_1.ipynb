{
 "cells": [
  {
   "cell_type": "code",
   "execution_count": 2,
   "metadata": {},
   "outputs": [
    {
     "name": "stdout",
     "output_type": "stream",
     "text": [
      "您已經存了8個月，共存了33194元\n"
     ]
    }
   ],
   "source": [
    "#小名想要存錢買一輛機車，機車每輛30000元，他將每月存的錢輸入，當存款足夠買機車時，就顯示提示訊息告知>\n",
    "deposit=0\n",
    "month=0\n",
    "while deposit<30000:\n",
    "    month+=1\n",
    "    money=int(input(f'請輸入第{month}個月的存款:'))\n",
    "    deposit+=money\n",
    "print(f'您已經存了{month}個月，共存了{deposit}元')"
   ]
  },
  {
   "cell_type": "code",
   "execution_count": 4,
   "metadata": {},
   "outputs": [
    {
     "name": "stdout",
     "output_type": "stream",
     "text": [
      "Taiwan\n",
      "Japan\n",
      "China\n",
      "America\n",
      "應用程式結束\n"
     ]
    }
   ],
   "source": [
    "#請輸入小寫的英文字串，將英文字第1個字變大寫\n",
    "#請輸入小寫英文字[按q會離開]:\n",
    "#taiwan輸出Taiwan\n",
    "\n",
    "stuff=input('請輸入小寫英文字[按q會離開]:')\n",
    "#print(type(stuff))  #檢查型別:Str\n",
    "while stuff!='q':\n",
    "    print(stuff.capitalize())  #第一個字母大寫\n",
    "    stuff=input('請輸入小寫英文字[按q會離開]:')\n",
    "print('應用程式結束')"
   ]
  },
  {
   "cell_type": "code",
   "execution_count": 6,
   "metadata": {},
   "outputs": [
    {
     "name": "stdout",
     "output_type": "stream",
     "text": [
      "Japan\n",
      "Taiwan\n",
      "Austrulia\n",
      "應用程式結束\n"
     ]
    }
   ],
   "source": [
    "#請輸入小寫的英文字串，將英文字第1個字變大寫\n",
    "#請輸入小寫英文字[按q會離開]:\n",
    "#taiwan輸出Taiwan\n",
    "\n",
    "#print(type(stuff))\n",
    "while True:\n",
    "    stuff=input('請輸入小寫英文字[按q會離開]:')\n",
    "    if stuff=='q':\n",
    "        break\n",
    "    print(stuff.capitalize())\n",
    "    \n",
    "print('應用程式結束')"
   ]
  },
  {
   "cell_type": "code",
   "execution_count": 7,
   "metadata": {},
   "outputs": [
    {
     "name": "stdout",
     "output_type": "stream",
     "text": [
      "Taiwan\n",
      "應用程式結束\n"
     ]
    }
   ],
   "source": [
    "#請輸入小寫的英文字串，將英文字第1個字變大寫\n",
    "#請輸入小寫英文字[按q會離開]:\n",
    "#taiwan輸出Taiwan\n",
    "\n",
    "#print(type(stuff))\n",
    "while True:\n",
    "    stuff=input('請輸入小寫英文字[按q會離開]:')\n",
    "    if stuff=='q':\n",
    "        break\n",
    "    else:\n",
    "        print(stuff.capitalize())\n",
    "        continue\n",
    "    print('沒用的程式')  #永不執行\n",
    "    \n",
    "print('應用程式結束')"
   ]
  },
  {
   "cell_type": "code",
   "execution_count": 13,
   "metadata": {},
   "outputs": [
    {
     "name": "stdout",
     "output_type": "stream",
     "text": [
      "judy的bmi為42.45,為重度肥胖\n",
      "kelly的bmi為26.12,為過重\n",
      "177的bmi為166.67,為重度肥胖\n",
      "應用程式結束\n"
     ]
    }
   ],
   "source": [
    "try:\n",
    "    while True:\n",
    "        name=input(\"請輸入姓名\")\n",
    "        height=float(input('請輸入身高(cm):'))\n",
    "        weight=float(input('請輸入體重(kg):'))\n",
    "        bmi=round(weight/((height*0.01)**2),ndigits=2)\n",
    "        if bmi<18.5:\n",
    "            grade=\"體重過輕\"\n",
    "        elif bmi<24:\n",
    "            grade=\"正常範圍\"\n",
    "        elif bmi<27:\n",
    "            grade=\"過重\"\n",
    "        elif bmi<30:\n",
    "            grade=\"輕度肥胖\"\n",
    "        elif bmi<35:\n",
    "            grade=\"中度肥胖\"\n",
    "        else:\n",
    "            grade=\"重度肥胖\"\n",
    "        print(f\"{name}的bmi為{bmi},為{grade}\")\n",
    "        decide=input(\"還要繼續嗎?('q':離開,enter:繼續)\")\n",
    "        if decide=='q':\n",
    "            break\n",
    "except ValueError:\n",
    "    print(\"格式錯誤\")\n",
    "else:\n",
    "    print(\"應用程式結束\")"
   ]
  }
 ],
 "metadata": {
  "kernelspec": {
   "display_name": "Python 3",
   "language": "python",
   "name": "python3"
  },
  "language_info": {
   "codemirror_mode": {
    "name": "ipython",
    "version": 3
   },
   "file_extension": ".py",
   "mimetype": "text/x-python",
   "name": "python",
   "nbconvert_exporter": "python",
   "pygments_lexer": "ipython3",
   "version": "3.11.9"
  }
 },
 "nbformat": 4,
 "nbformat_minor": 2
}

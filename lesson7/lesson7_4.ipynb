{
 "cells": [
  {
   "cell_type": "code",
   "execution_count": 3,
   "metadata": {},
   "outputs": [
    {
     "name": "stdout",
     "output_type": "stream",
     "text": [
      "18\n",
      "80\n"
     ]
    }
   ],
   "source": [
    "def addition(a:int,b:int)->int:\n",
    "    return a+b\n",
    "def multiply(a:int,c:int)->int:\n",
    "    return a*c\n",
    "print(addition(8,10))  #引數值的呼叫，依照順序\n",
    "print(multiply(c=10,a=8))  #引數名稱的呼叫，可以不依照順序"
   ]
  },
  {
   "cell_type": "code",
   "execution_count": null,
   "metadata": {},
   "outputs": [],
   "source": [
    "def get_status_message(bmi:float)->str:\n",
    "    if bmi<18.5:\n",
    "        return \"體重過輕\"\n",
    "    elif bmi<24:\n",
    "        return \"正常範圍\"\n",
    "    elif bmi<27:\n",
    "        return \"過重\"\n",
    "    elif bmi<30:\n",
    "        return \"輕度肥胖\"\n",
    "    elif bmi<35:\n",
    "        return \"中度肥胖\"\n",
    "    elif bmi>=35:\n",
    "        return \"重度肥胖\"\n",
    "while True:\n",
    "    try:\n",
    "        name=str(input(\"請輸入姓名\"))\n",
    "        height=float(input('請輸入身高'))\n",
    "        weight=float(input('請輸入體重'))\n",
    "        bmi=weight/(((height*0.01))**2)\n",
    "        \n",
    "        print(f\"{name} 的 bmi 為 {bmi},為{grade}\")\n",
    "    except ValueError:\n",
    "        print(\"格式錯誤\")\n",
    "        continue\n",
    "    stuff = input(\"請問是否繼續輸入資料 ('q':離開,任意鍵:繼續)?\")\n",
    "\n",
    "    if stuff == 'q':\n",
    "        break\n",
    "    \n",
    "\n",
    "print(\"應用程式結束\")\n"
   ]
  }
 ],
 "metadata": {
  "kernelspec": {
   "display_name": "Python 3",
   "language": "python",
   "name": "python3"
  },
  "language_info": {
   "codemirror_mode": {
    "name": "ipython",
    "version": 3
   },
   "file_extension": ".py",
   "mimetype": "text/x-python",
   "name": "python",
   "nbconvert_exporter": "python",
   "pygments_lexer": "ipython3",
   "version": "3.11.9"
  }
 },
 "nbformat": 4,
 "nbformat_minor": 2
}
